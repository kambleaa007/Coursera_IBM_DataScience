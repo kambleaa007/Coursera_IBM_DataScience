{
    "nbformat_minor": 1, 
    "cells": [
        {
            "source": "# Business Problem", 
            "cell_type": "markdown", 
            "metadata": {
                "collapsed": true
            }
        }, 
        {
            "source": "Southeast Asia has quietly become a major trade destination for international businesses and Singapore is considered the business\u2019 gateway to Southeast Asia. As a result, people from around the world, especially South East Asia, flock to Singapore with some of them aspiring to make this remarkable place a home of their own. \n\nWith varying budgets and needs, people find it very hard to find a suitable place and neighborhood to accommodate them and their families. Due to high cost of living, many people have been struggling to find a suitable flat/house for themselves. \n\nWith appropriate data coupled with data science techniques, one can derive the useful information about current pricing in different locations of Singapore while considering other factors of his/her choice such as: proximity to schools, medical care, restaurants. This would help the potential buyers make an informed decision about buying a suitable property. \n\n***Target audience:***  \n\nPotential buyers look to buy suitable property in Singapore but are skeptical due to lack of knowledge and volatile market conditions.\n\n***Stakeholders:***\n\n1.Government of Singapore  \n2.Sellers  \n3.Buyers  \n4.Real estate agents  \n\n", 
            "cell_type": "markdown", 
            "metadata": {}
        }, 
        {
            "execution_count": null, 
            "cell_type": "code", 
            "metadata": {}, 
            "outputs": [], 
            "source": ""
        }
    ], 
    "metadata": {
        "kernelspec": {
            "display_name": "Python 3.5", 
            "name": "python3", 
            "language": "python"
        }, 
        "language_info": {
            "mimetype": "text/x-python", 
            "nbconvert_exporter": "python", 
            "version": "3.5.5", 
            "name": "python", 
            "file_extension": ".py", 
            "pygments_lexer": "ipython3", 
            "codemirror_mode": {
                "version": 3, 
                "name": "ipython"
            }
        }
    }, 
    "nbformat": 4
}