{
    "nbformat_minor": 1, 
    "cells": [
        {
            "source": "# Data Description", 
            "cell_type": "markdown", 
            "metadata": {
                "collapsed": true
            }
        }, 
        {
            "source": "The following sources of data are used for this Capstone Project:\n\n#### Open Data published by Government of Singapore \n\nType of data: \nDataset in form of CSV file\n\nDuration:  \nFrom 2015 onwards\n\nDescription of the dataset: \nThe data includes related information on resale flat prices in Singapore such as Flat type, Street, Month of Transaction, Flat Model, Area, etc\u2026\n \nThis dataset was downloaded and later hosted on IBM Watson Studio for ease of use.\n\nSource: \nhttps://data.gov.sg/dataset/resale-flat-prices\n\n\n#### Foursquare location data\n\nType of data: \nJSON\n\nDuration:  \nN/A\n\nDescription of the data: \nLocation coordinates obtained by Foursquare API calls.\n\nTo determine the proximity of various amenities as per the buyer\u2019s requirement, Foursquare location data is used.\n\nSource: -\nhttps://foursquare.com/\n", 
            "cell_type": "markdown", 
            "metadata": {}
        }, 
        {
            "execution_count": null, 
            "cell_type": "code", 
            "metadata": {}, 
            "outputs": [], 
            "source": ""
        }
    ], 
    "metadata": {
        "kernelspec": {
            "display_name": "Python 3.5", 
            "name": "python3", 
            "language": "python"
        }, 
        "language_info": {
            "mimetype": "text/x-python", 
            "nbconvert_exporter": "python", 
            "version": "3.5.5", 
            "name": "python", 
            "file_extension": ".py", 
            "pygments_lexer": "ipython3", 
            "codemirror_mode": {
                "version": 3, 
                "name": "ipython"
            }
        }
    }, 
    "nbformat": 4
}